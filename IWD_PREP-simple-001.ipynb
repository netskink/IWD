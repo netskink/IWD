{
 "cells": [
  {
   "cell_type": "markdown",
   "id": "f28fc016-b123-43b6-8841-00fddb59a0aa",
   "metadata": {
    "tags": []
   },
   "source": [
    "# Basic Image classifcation using the FashionNist Sample Dataset\n",
    "\n",
    "This is a simplified version of the example provided in the GluonCV AWS class on Coursera.\n",
    "\n",
    "The original exercise normalized the data, did a two layer DNN and then enhanced the example using convolution and pooling layers.\n",
    "\n",
    "This simplified version is a step wise process of doing the exercise with just the DNN, normalizing the input data is done in \n",
    "a second notebook.  Likewise using convolution and pooling is done in a third notebook.\n",
    "\n",
    "The dataset api is [here](https://mxnet.apache.org/versions/1.7.0/api/python/docs/api/gluon/data/vision/datasets/index.html)\n",
    "The source for the mxnet dataset api is [here](https://mxnet.apache.org/versions/1.5.0/_modules/mxnet/gluon/data/vision/datasets.html)\n"
   ]
  },
  {
   "cell_type": "code",
   "execution_count": 27,
   "id": "747a5ca9-7574-4f83-81eb-9953b3ce751e",
   "metadata": {},
   "outputs": [
    {
     "name": "stdout",
     "output_type": "stream",
     "text": [
      "Requirement already satisfied: mxnet in /home/studio-lab-user/.conda/envs/default/lib/python3.9/site-packages (1.9.0)\n",
      "Requirement already satisfied: numpy<2.0.0,>1.16.0 in /home/studio-lab-user/.conda/envs/default/lib/python3.9/site-packages (from mxnet) (1.22.3)\n",
      "Requirement already satisfied: requests<3,>=2.20.0 in /home/studio-lab-user/.conda/envs/default/lib/python3.9/site-packages (from mxnet) (2.27.1)\n",
      "Requirement already satisfied: graphviz<0.9.0,>=0.8.1 in /home/studio-lab-user/.conda/envs/default/lib/python3.9/site-packages (from mxnet) (0.8.4)\n",
      "Requirement already satisfied: urllib3<1.27,>=1.21.1 in /home/studio-lab-user/.conda/envs/default/lib/python3.9/site-packages (from requests<3,>=2.20.0->mxnet) (1.26.9)\n",
      "Requirement already satisfied: certifi>=2017.4.17 in /home/studio-lab-user/.conda/envs/default/lib/python3.9/site-packages (from requests<3,>=2.20.0->mxnet) (2021.10.8)\n",
      "Requirement already satisfied: charset-normalizer~=2.0.0 in /home/studio-lab-user/.conda/envs/default/lib/python3.9/site-packages (from requests<3,>=2.20.0->mxnet) (2.0.12)\n",
      "Requirement already satisfied: idna<4,>=2.5 in /home/studio-lab-user/.conda/envs/default/lib/python3.9/site-packages (from requests<3,>=2.20.0->mxnet) (3.3)\n",
      "Requirement already satisfied: scikit-learn in /home/studio-lab-user/.conda/envs/default/lib/python3.9/site-packages (1.0.2)\n",
      "Requirement already satisfied: joblib>=0.11 in /home/studio-lab-user/.conda/envs/default/lib/python3.9/site-packages (from scikit-learn) (1.1.0)\n",
      "Requirement already satisfied: numpy>=1.14.6 in /home/studio-lab-user/.conda/envs/default/lib/python3.9/site-packages (from scikit-learn) (1.22.3)\n",
      "Requirement already satisfied: threadpoolctl>=2.0.0 in /home/studio-lab-user/.conda/envs/default/lib/python3.9/site-packages (from scikit-learn) (3.1.0)\n",
      "Requirement already satisfied: scipy>=1.1.0 in /home/studio-lab-user/.conda/envs/default/lib/python3.9/site-packages (from scikit-learn) (1.8.0)\n",
      "Requirement already satisfied: matplotlib in /home/studio-lab-user/.conda/envs/default/lib/python3.9/site-packages (3.5.1)\n",
      "Requirement already satisfied: packaging>=20.0 in /home/studio-lab-user/.conda/envs/default/lib/python3.9/site-packages (from matplotlib) (21.3)\n",
      "Requirement already satisfied: python-dateutil>=2.7 in /home/studio-lab-user/.conda/envs/default/lib/python3.9/site-packages (from matplotlib) (2.8.2)\n",
      "Requirement already satisfied: numpy>=1.17 in /home/studio-lab-user/.conda/envs/default/lib/python3.9/site-packages (from matplotlib) (1.22.3)\n",
      "Requirement already satisfied: pillow>=6.2.0 in /home/studio-lab-user/.conda/envs/default/lib/python3.9/site-packages (from matplotlib) (9.1.0)\n",
      "Requirement already satisfied: fonttools>=4.22.0 in /home/studio-lab-user/.conda/envs/default/lib/python3.9/site-packages (from matplotlib) (4.31.2)\n",
      "Requirement already satisfied: pyparsing>=2.2.1 in /home/studio-lab-user/.conda/envs/default/lib/python3.9/site-packages (from matplotlib) (3.0.6)\n",
      "Requirement already satisfied: kiwisolver>=1.0.1 in /home/studio-lab-user/.conda/envs/default/lib/python3.9/site-packages (from matplotlib) (1.4.2)\n",
      "Requirement already satisfied: cycler>=0.10 in /home/studio-lab-user/.conda/envs/default/lib/python3.9/site-packages (from matplotlib) (0.11.0)\n",
      "Requirement already satisfied: six>=1.5 in /home/studio-lab-user/.conda/envs/default/lib/python3.9/site-packages (from python-dateutil>=2.7->matplotlib) (1.16.0)\n",
      "Requirement already satisfied: tqdm in /home/studio-lab-user/.conda/envs/default/lib/python3.9/site-packages (4.63.1)\n"
     ]
    }
   ],
   "source": [
    "%%bash\n",
    "pip install mxnet\n",
    "pip install scikit-learn\n",
    "pip install matplotlib\n",
    "# progress bar\n",
    "pip install tqdm"
   ]
  },
  {
   "cell_type": "code",
   "execution_count": 28,
   "id": "71504f58-e47b-4495-b2a8-d61d529ebbc4",
   "metadata": {},
   "outputs": [],
   "source": [
    "# python libs\n",
    "import mxnet as mx\n",
    "# mxnet NDarray shortcut\n",
    "from mxnet import nd\n",
    "# import gluon\n",
    "from mxnet import gluon, init, nd, autograd\n",
    "from mxnet.gluon import nn\n",
    "from mxnet.gluon.data.vision import transforms\n",
    "from mxnet.gluon.data.vision import FashionMNIST\n",
    "from mxnet.gluon.loss import SoftmaxCrossEntropyLoss\n",
    "from sklearn.metrics import accuracy_score\n",
    "\n",
    "\n",
    "# for plotting\n",
    "from matplotlib import pyplot as plt\n",
    "\n",
    "# for numpy arrays\n",
    "import numpy as np\n",
    "\n",
    "# file io\n",
    "import os\n",
    "import math # for pi\n",
    "\n",
    "# script parameters\n",
    "import sys\n",
    "\n",
    "# for path operations\n",
    "from pathlib import Path\n",
    "\n",
    "# for progress bars\n",
    "from tqdm import tqdm "
   ]
  },
  {
   "cell_type": "code",
   "execution_count": 29,
   "id": "18a8fe36-7843-41a1-8a48-00468a17378c",
   "metadata": {},
   "outputs": [],
   "source": [
    "path = '../data/minc-2500'\n",
    "train_path = os.path.join(path, 'train')\n",
    "val_path = os.path.join(path, 'val')\n",
    "test_path = os.path.join(path, 'test')"
   ]
  },
  {
   "cell_type": "markdown",
   "id": "698e3073-7d10-482c-b0bb-f2bd241ed94b",
   "metadata": {},
   "source": [
    "# Reference for mxnet approach to this problem\n",
    "Using this code as a sample reference\n",
    "https://github.com/rtp-aws/devpost_aws_disaster_response/blob/main/python/coursera_gluonCV_class/notebook/module_4_lab.ipynb"
   ]
  },
  {
   "cell_type": "code",
   "execution_count": 30,
   "id": "99beac67-1ac7-4649-b9db-1a00541caf6b",
   "metadata": {},
   "outputs": [
    {
     "name": "stdout",
     "output_type": "stream",
     "text": [
      "None\n"
     ]
    }
   ],
   "source": [
    "print(os.getenv('DATA_DIR'))"
   ]
  },
  {
   "cell_type": "code",
   "execution_count": 31,
   "id": "454908f5-823c-4394-829a-c2715e744303",
   "metadata": {},
   "outputs": [],
   "source": [
    "# ORIG M4_DATA = Path(os.getenv('DATA_DIR', '../../data'), 'module_4')\n",
    "M4_DATA = Path(os.getenv('DATA_DIR', '../data'), 'module_4')\n",
    "M4_IMAGES = Path(M4_DATA, 'images')\n",
    "M4_MODELS = Path(M4_DATA, 'models')"
   ]
  },
  {
   "cell_type": "markdown",
   "id": "4a17c342-da43-4f01-9474-6dfe31a3f880",
   "metadata": {},
   "source": [
    "# Data (and NDArray Operations)\n",
    "\n",
    "We'll use the in-built dataset called FashionMNIST which is a variant of the commonly used MNIST dataset. It consists of 60,000 training images and 10,000 test images, and each image is a 28px by 28px greyscale image. We'll start by creating the dataset and visualize an example image."
   ]
  },
  {
   "cell_type": "code",
   "execution_count": 32,
   "id": "df99f3b5-ce18-425f-88e4-c3b5d759df19",
   "metadata": {},
   "outputs": [],
   "source": [
    "test_dataset = FashionMNIST(train=False, root=M4_IMAGES).transform_first(transforms.ToTensor())"
   ]
  },
  {
   "cell_type": "code",
   "execution_count": 35,
   "id": "425a5cf8-a5fa-43f7-a45a-d94a7d5b40f2",
   "metadata": {},
   "outputs": [],
   "source": [
    "# encode the class names as strings\n",
    "#                0             1          2           3        4       5         6        7          8      9       \n",
    "class_names = ['T-shirt/top', 'Trouser', 'Pullover', 'Dress', 'Coat', 'Sandal', 'Shirt', 'Sneaker', 'Bag', 'Ankle boot']"
   ]
  },
  {
   "cell_type": "code",
   "execution_count": 37,
   "id": "6707bcf4-69a6-48ee-a5f4-707a6beabecd",
   "metadata": {},
   "outputs": [
    {
     "name": "stdout",
     "output_type": "stream",
     "text": [
      "The image label encoding is  4\n",
      "the sample label human readable is  Coat\n"
     ]
    },
    {
     "data": {
      "image/png": "[encoded data removed]",
      "text/plain": [
       "<Figure size 432x288 with 1 Axes>"
      ]
     },
     "metadata": {
      "needs_background": "light"
     },
     "output_type": "display_data"
    }
   ],
   "source": [
    "sample_idx = 123\n",
    "sample_data, sample_label = test_dataset[sample_idx]\n",
    "plt.imshow(sample_data[0].asnumpy(), cmap='gray')  # 0 for first and only channel (since greyscale).\n",
    "print('The image label encoding is ', sample_label)\n",
    "print('the sample label human readable is ', class_names[sample_label])\n"
   ]
  },
  {
   "cell_type": "code",
   "execution_count": 38,
   "id": "6a035d4f-2416-4687-b183-85610ef4c551",
   "metadata": {},
   "outputs": [
    {
     "name": "stdout",
     "output_type": "stream",
     "text": [
      "the sample label is  Coat\n",
      "<class 'mxnet.ndarray.ndarray.NDArray'>\n",
      "(1, 28, 28)\n",
      "\n",
      "[0.827451]\n",
      "<NDArray 1 @cpu(0)>\n",
      "<class 'numpy.float32'>\n"
     ]
    }
   ],
   "source": [
    "#print(sample_data)\n",
    "print('the sample label is ', class_names[sample_label])\n",
    "print(type(sample_data))\n",
    "print(sample_data.shape)\n",
    "print(sample_data[0,13,12])\n",
    "print(type(sample_data[0,1,1].asscalar()))"
   ]
  },
  {
   "cell_type": "code",
   "execution_count": null,
   "id": "d913124c-0224-444f-9ce2-dad808da7266",
   "metadata": {},
   "outputs": [],
   "source": []
  },
  {
   "cell_type": "code",
   "execution_count": null,
   "id": "7c66b1db-5b08-4669-9023-d078138148e6",
   "metadata": {},
   "outputs": [],
   "source": []
  },
  {
   "cell_type": "code",
   "execution_count": null,
   "id": "bd5d41f0-95c8-414f-92f6-9378fc942169",
   "metadata": {},
   "outputs": [],
   "source": []
  },
  {
   "cell_type": "code",
   "execution_count": 39,
   "id": "dddc8215-a809-4f72-b063-450f2b0fb3fb",
   "metadata": {},
   "outputs": [
    {
     "name": "stdout",
     "output_type": "stream",
     "text": [
      "<class 'mxnet.ndarray.ndarray.NDArray'>\n",
      "(1024, 1, 28, 28)\n"
     ]
    }
   ],
   "source": [
    "# Note the lazy transformation in the transform_first api call\n",
    "test_dataloader = mx.gluon.data.DataLoader(test_dataset, shuffle=False, batch_size=1024)\n",
    "for data, label in test_dataloader:\n",
    "    break\n",
    "print(type(data))\n",
    "print(data.shape)"
   ]
  },
  {
   "cell_type": "code",
   "execution_count": 40,
   "id": "32a648b7-172c-47df-84c8-cb4a79cb9905",
   "metadata": {},
   "outputs": [],
   "source": [
    "transform = transforms.Compose([\n",
    "    transforms.ToTensor()\n",
    "])"
   ]
  },
  {
   "cell_type": "code",
   "execution_count": 41,
   "id": "453ae1e9-ffdf-4832-b9d6-5cf72d159eda",
   "metadata": {},
   "outputs": [],
   "source": [
    "train_dataset = FashionMNIST(train=True, root=M4_IMAGES).transform_first(transform)\n",
    "test_dataset = FashionMNIST(train=False, root=M4_IMAGES).transform_first(transform)\n",
    "train_dataloader = mx.gluon.data.DataLoader(train_dataset, shuffle=True, batch_size=128)\n",
    "test_dataloader = mx.gluon.data.DataLoader(train_dataset, shuffle=False, batch_size=128)"
   ]
  },
  {
   "cell_type": "markdown",
   "id": "810ef82e-f342-4613-a1fb-c97b81802285",
   "metadata": {},
   "source": [
    "# 2) Metrics\n",
    "In this section, you'll implement a function to test the prediction quality of networks. Using Accuracy as the evaluation metric, complete the following function that takes a network and a dataloader (with test data) and returns an MXNet Metric that has been updated with labels and predictions. We'll use this function in the next section, when we train classification networks.\n",
    "\n",
    "**Hint**: You'll find classes in the mxnet.metric subpackage useful for this task."
   ]
  },
  {
   "cell_type": "code",
   "execution_count": 15,
   "id": "34e2f34a-5675-4f84-b308-9690e6dcb59a",
   "metadata": {},
   "outputs": [],
   "source": [
    "def calculate_accuracy(network, dataloader):\n",
    "    \"\"\"\n",
    "    Calculates accuracy of the network on the data given by the dataloader.\n",
    "    \n",
    "    :param network: network to be tested\n",
    "    :type network: mx.gluon.Block\n",
    "    :param dataloader: dataloader for test data\n",
    "    :type dataloader: mx.gluon.data.DataLoader\n",
    "    \n",
    "    :return: updated metric\n",
    "    :rtype: mx.metric.EvalMetric\n",
    "    \"\"\"\n",
    "    # YOUR CODE HERE\n",
    "    #raise NotImplementedError()\n",
    "    accuracy = mx.metric.Accuracy()\n",
    "    # tdqm is a progress bar library?\n",
    "    for data, labels in tqdm(dataloader):\n",
    "        preds = network(data)\n",
    "        # YOUR CODE HERE\n",
    "        #raise NotImplementedError()\n",
    "        # print(\"labels is {}     preds are {}\" . format(labels, preds))\n",
    "        accuracy.update(labels,preds)\n",
    "        \n",
    "    return accuracy"
   ]
  },
  {
   "cell_type": "markdown",
   "id": "8423308e-1e3b-4e2e-94c3-5f6c549062d1",
   "metadata": {},
   "source": [
    "## explanation of mx.gluon.nn.Dense() api\n",
    "Docs are [here](https://mxnet.apache.org/versions/1.6/api/python/docs/api/gluon/nn/index.html#mxnet.gluon.nn.Dense)\n",
    "\n",
    "This is a simple  single layer DNN of 28x28=768 pixel values and 10 outputs corresponding to the different image label classifications."
   ]
  },
  {
   "cell_type": "code",
   "execution_count": 43,
   "id": "d90a042e-1651-438d-bd01-5c1970397b92",
   "metadata": {},
   "outputs": [
    {
     "name": "stderr",
     "output_type": "stream",
     "text": [
      "100%|██████████| 469/469 [00:04<00:00, 102.16it/s]"
     ]
    },
    {
     "name": "stdout",
     "output_type": "stream",
     "text": [
      "('accuracy', 0.07595)\n",
      "Dense(784 -> 10, linear)\n"
     ]
    },
    {
     "name": "stderr",
     "output_type": "stream",
     "text": [
      "\n"
     ]
    }
   ],
   "source": [
    "# this is the DNN\n",
    "test_network = mx.gluon.nn.Dense(units=10)\n",
    "\n",
    "# setup the DNN\n",
    "test_network.initialize()\n",
    "\n",
    "# train and evaludate the DNN?\n",
    "metric = calculate_accuracy(test_network, test_dataloader)\n",
    "print(metric.get())\n",
    "print(test_network)\n",
    "isinstance(metric, mx.metric.EvalMetric)\n",
    "assert metric.name == 'accuracy'\n",
    "assert metric.num_inst == 60000"
   ]
  },
  {
   "cell_type": "markdown",
   "id": "f1dc1b6e-3a39-44e3-ae5a-5f63f3c63707",
   "metadata": {},
   "source": [
    "# 3) Network\n",
    "In the section, you'll implement a couple of different image classification networks and train then on the FashionMNIST dataset. A train function is already provided in this assignment, because the focus will be on network construction.\n",
    "\n",
    "* sgd is possibly 'simple gradient descent'  It shows up in the list shown [here](https://mxnet.apache.org/versions/1.6/api/python/docs/api/optimizer/index.html#)"
   ]
  },
  {
   "cell_type": "code",
   "execution_count": 18,
   "id": "6859a688-8b42-4da7-b66c-02d3e82ee3fc",
   "metadata": {},
   "outputs": [],
   "source": [
    "def train(network, dataloader):\n",
    "    softmax_cross_entropy = mx.gluon.loss.SoftmaxCrossEntropyLoss()\n",
    "    trainer = mx.gluon.Trainer(network.collect_params(), 'sgd', {'learning_rate': 0.1})\n",
    "    for data, label in tqdm(dataloader):\n",
    "        with mx.autograd.record():\n",
    "            output = network(data)\n",
    "            loss = softmax_cross_entropy(output, label)\n",
    "        loss.backward()\n",
    "        trainer.step(data.shape[0])"
   ]
  },
  {
   "cell_type": "markdown",
   "id": "05589ee0-993a-4d81-bc2b-1a9b22ef0564",
   "metadata": {},
   "source": [
    "Your first model should be a sequential network, with 3 layers. You first layer should have 16 hidden units, the second should have 8 hidden units and the last layer should the correct number of output units for the classification task at hand. You should add ReLU activations on all hidden layers, but not the output layer. You should define network in the cell below.\n",
    "\n",
    "Hint: You'll find classes in the mxnet.gluon.nn subpackage useful for this task."
   ]
  },
  {
   "cell_type": "code",
   "execution_count": 19,
   "id": "9b687cbe-ebd8-4a73-98ac-052e181d29ae",
   "metadata": {},
   "outputs": [],
   "source": [
    "# YOUR CODE HERE\n",
    "#raise NotImplementedError()\n",
    "\n",
    "network = mx.gluon.nn.Sequential()\n",
    "network.add(\n",
    "    mx.gluon.nn.Dense(16, activation = 'relu'), # this is layer 1\n",
    "    mx.gluon.nn.Dense(8, activation = 'relu'), # this is layer 2\n",
    "    mx.gluon.nn.Dense(10) # the output layer, corresponding to the 10 class labels, sneaker, sandal, etc.\n",
    ")"
   ]
  },
  {
   "cell_type": "code",
   "execution_count": 20,
   "id": "b6d3fb9b-9cfa-4655-804f-afa5dda7aa5a",
   "metadata": {},
   "outputs": [],
   "source": [
    "assert isinstance(network, mx.gluon.nn.Sequential)\n",
    "assert len(network) == 3\n",
    "assert isinstance(network[0], mx.gluon.nn.Dense)\n",
    "assert network[0].act.name.endswith('relu')\n",
    "assert network[0].weight.shape[0] == 16\n",
    "assert isinstance(network[1], mx.gluon.nn.Dense)\n",
    "assert network[1].act.name.endswith('relu')\n",
    "assert network[1].weight.shape[0] == 8\n",
    "assert isinstance(network[2], mx.gluon.nn.Dense)\n",
    "assert network[2].act is None\n",
    "assert network[2].weight.shape[0] == 10"
   ]
  },
  {
   "cell_type": "code",
   "execution_count": 21,
   "id": "4270aab4-dca1-4a70-99a0-bb20f9b5969b",
   "metadata": {},
   "outputs": [
    {
     "name": "stdout",
     "output_type": "stream",
     "text": [
      "Sequential(\n",
      "  (0): Dense(None -> 16, Activation(relu))\n",
      "  (1): Dense(None -> 8, Activation(relu))\n",
      "  (2): Dense(None -> 10, linear)\n",
      ")\n"
     ]
    }
   ],
   "source": [
    "print(network)"
   ]
  },
  {
   "cell_type": "markdown",
   "id": "c87477b5-f2d4-4406-b55a-85a22013a06b",
   "metadata": {},
   "source": [
    "With your network now defined, you should initialize its parameters using the Xavier method in the cell below.\n",
    "\n",
    "**Hint**: You'll find classes in the mxnet.init subpackage useful for this task."
   ]
  },
  {
   "cell_type": "code",
   "execution_count": 22,
   "id": "51504d50-b865-4185-9157-8c79e26d8e13",
   "metadata": {},
   "outputs": [],
   "source": [
    "# Use this guide\n",
    "# https://mxnet.apache.org/api/python/docs/tutorials/packages/gluon/blocks/init.html\n",
    "\n",
    "# YOUR CODE HERE\n",
    "#raise NotImplementedError()\n",
    "initializer = mx.init.Xavier()\n",
    "network.initialize(initializer)\n"
   ]
  },
  {
   "cell_type": "code",
   "execution_count": 23,
   "id": "5dcf3fe3-b881-491e-aaab-b9193026974f",
   "metadata": {},
   "outputs": [],
   "source": [
    "assert isinstance(initializer, mx.initializer.Xavier)"
   ]
  },
  {
   "cell_type": "markdown",
   "id": "67fa239e-de24-48f2-8f39-8178a7e6547e",
   "metadata": {},
   "source": [
    "We'll now check the network summary and see that the network has 12786 trainable parameters."
   ]
  },
  {
   "cell_type": "code",
   "execution_count": 24,
   "id": "b9e52cd6-af4f-4c29-8af5-3d8a95b51e56",
   "metadata": {},
   "outputs": [
    {
     "name": "stdout",
     "output_type": "stream",
     "text": [
      "--------------------------------------------------------------------------------\n",
      "        Layer (type)                                Output Shape         Param #\n",
      "================================================================================\n",
      "               Input                           (1024, 1, 28, 28)               0\n",
      "        Activation-1                    <Symbol dense1_relu_fwd>               0\n",
      "        Activation-2                                  (1024, 16)               0\n",
      "             Dense-3                                  (1024, 16)           12560\n",
      "        Activation-4                    <Symbol dense2_relu_fwd>               0\n",
      "        Activation-5                                   (1024, 8)               0\n",
      "             Dense-6                                   (1024, 8)             136\n",
      "             Dense-7                                  (1024, 10)              90\n",
      "================================================================================\n",
      "Parameters in forward computation graph, duplicate included\n",
      "   Total params: 12786\n",
      "   Trainable params: 12786\n",
      "   Non-trainable params: 0\n",
      "Shared params in forward computation graph: 0\n",
      "Unique parameters in model: 12786\n",
      "--------------------------------------------------------------------------------\n"
     ]
    }
   ],
   "source": [
    "network.summary(data)"
   ]
  },
  {
   "cell_type": "code",
   "execution_count": 25,
   "id": "8d9d7bf4-de43-41fc-a580-d93130c1842b",
   "metadata": {},
   "outputs": [
    {
     "name": "stdout",
     "output_type": "stream",
     "text": [
      "Sequential(\n",
      "  (0): Dense(784 -> 16, Activation(relu))\n",
      "  (1): Dense(16 -> 8, Activation(relu))\n",
      "  (2): Dense(8 -> 10, linear)\n",
      ")\n"
     ]
    }
   ],
   "source": [
    "# Now we see the None for input is filled out with 768 pixel values for first layer\n",
    "# compare with first print of the network\n",
    "print(network)"
   ]
  },
  {
   "cell_type": "markdown",
   "id": "89fb538c-8b6a-47bf-8b8f-bf0ff2c67d61",
   "metadata": {},
   "source": [
    "And use the calculate_accuracy function defined in the previous section to evaluate the performance of this architecture."
   ]
  },
  {
   "cell_type": "code",
   "execution_count": 26,
   "id": "7f4aeb95-84b0-4ec7-b481-9077716bc495",
   "metadata": {},
   "outputs": [
    {
     "name": "stderr",
     "output_type": "stream",
     "text": [
      "100%|██████████| 469/469 [00:05<00:00, 83.78it/s]\n",
      "100%|██████████| 469/469 [00:04<00:00, 100.74it/s]"
     ]
    },
    {
     "name": "stdout",
     "output_type": "stream",
     "text": [
      "('accuracy', 0.7757333333333334)\n"
     ]
    },
    {
     "name": "stderr",
     "output_type": "stream",
     "text": [
      "\n"
     ]
    }
   ],
   "source": [
    "train(network, train_dataloader)\n",
    "metric = calculate_accuracy(network, test_dataloader)\n",
    "print(metric.get())"
   ]
  },
  {
   "cell_type": "code",
   "execution_count": null,
   "id": "48d6820f-bd8b-41e3-ab50-359f2f2f40ca",
   "metadata": {},
   "outputs": [],
   "source": []
  }
 ],
 "metadata": {
  "kernelspec": {
   "display_name": "default:Python",
   "language": "python",
   "name": "conda-env-default-py"
  },
  "language_info": {
   "codemirror_mode": {
    "name": "ipython",
    "version": 3
   },
   "file_extension": ".py",
   "mimetype": "text/x-python",
   "name": "python",
   "nbconvert_exporter": "python",
   "pygments_lexer": "ipython3",
   "version": "3.9.7"
  }
 },
 "nbformat": 4,
 "nbformat_minor": 5
}
